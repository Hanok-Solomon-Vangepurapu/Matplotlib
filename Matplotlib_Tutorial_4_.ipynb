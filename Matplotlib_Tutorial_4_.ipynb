{
  "nbformat": 4,
  "nbformat_minor": 0,
  "metadata": {
    "colab": {
      "name": "Matplotlib Tutorial 4 .ipynb",
      "provenance": [],
      "authorship_tag": "ABX9TyMTQ/Kjl1psGjtT6Wrtt67y",
      "include_colab_link": true
    },
    "kernelspec": {
      "name": "python3",
      "display_name": "Python 3"
    },
    "language_info": {
      "name": "python"
    }
  },
  "cells": [
    {
      "cell_type": "markdown",
      "metadata": {
        "id": "view-in-github",
        "colab_type": "text"
      },
      "source": [
        "<a href=\"https://colab.research.google.com/github/honey-python-world/Matplotlib/blob/main/Matplotlib_Tutorial_4_.ipynb\" target=\"_parent\"><img src=\"https://colab.research.google.com/assets/colab-badge.svg\" alt=\"Open In Colab\"/></a>"
      ]
    },
    {
      "cell_type": "code",
      "execution_count": null,
      "metadata": {
        "id": "swFfKSySGbYa"
      },
      "outputs": [],
      "source": [
        "import matplotlib.pyplot as plt\n",
        "import numpy as np\n",
        "%matplotlib inline "
      ]
    },
    {
      "cell_type": "code",
      "source": [
        "company=[\"Google\",\"Amazon\",\"Microsoft\",\"Facebook\"]\n",
        "revenue=[90,136,89,27]\n",
        "profit=[40,2,34,12]"
      ],
      "metadata": {
        "id": "jzd7hXOrG6LD"
      },
      "execution_count": null,
      "outputs": []
    },
    {
      "cell_type": "code",
      "source": [
        "ypos=np.arange(len(company))\n",
        "ypos\n"
      ],
      "metadata": {
        "colab": {
          "base_uri": "https://localhost:8080/"
        },
        "id": "PFe0Ys3RHYA7",
        "outputId": "073da6bb-c546-44d1-cb10-b6246fa5d9e9"
      },
      "execution_count": null,
      "outputs": [
        {
          "output_type": "execute_result",
          "data": {
            "text/plain": [
              "array([0, 1, 2, 3])"
            ]
          },
          "metadata": {},
          "execution_count": 17
        }
      ]
    },
    {
      "cell_type": "code",
      "source": [
        "plt.bar(company,revenue)"
      ],
      "metadata": {
        "colab": {
          "base_uri": "https://localhost:8080/",
          "height": 282
        },
        "id": "7J6ZHKzQHjuX",
        "outputId": "b004d7ae-6d2a-482d-d48e-72d844813017"
      },
      "execution_count": null,
      "outputs": [
        {
          "output_type": "execute_result",
          "data": {
            "text/plain": [
              "<BarContainer object of 4 artists>"
            ]
          },
          "metadata": {},
          "execution_count": 18
        },
        {
          "output_type": "display_data",
          "data": {
            "text/plain": [
              "<Figure size 432x288 with 1 Axes>"
            ],
            "image/png": "[encoded data removed]"
          },
          "metadata": {
            "needs_background": "light"
          }
        }
      ]
    },
    {
      "cell_type": "code",
      "source": [
        "plt.xlabel(\"Company\")\n",
        "plt.ylabel(\"Revenue($)\")\n",
        "plt.title(\"US Tech Stocks\")\n",
        "plt.bar(company,revenue,label=\"Revenue\")\n",
        "plt.legend()"
      ],
      "metadata": {
        "colab": {
          "base_uri": "https://localhost:8080/",
          "height": 312
        },
        "id": "b4XpMzzIIJ0S",
        "outputId": "d414994e-e789-481f-d988-5089ccd1c5e3"
      },
      "execution_count": null,
      "outputs": [
        {
          "output_type": "execute_result",
          "data": {
            "text/plain": [
              "<matplotlib.legend.Legend at 0x7fdb68b5f690>"
            ]
          },
          "metadata": {},
          "execution_count": 19
        },
        {
          "output_type": "display_data",
          "data": {
            "text/plain": [
              "<Figure size 432x288 with 1 Axes>"
            ],
            "image/png": "[encoded data removed]"
          },
          "metadata": {
            "needs_background": "light"
          }
        }
      ]
    },
    {
      "cell_type": "code",
      "source": [
        "plt.xlabel(\"Company\")\n",
        "plt.ylabel(\"Revenue($)\")\n",
        "plt.title(\"US Tech Stocks\")\n",
        "\n",
        "plt.bar(company,revenue,label=\"Revenue\")\n",
        "plt.bar(company,profit,label=\"Profit\")\n",
        "plt.legend(shadow=True,fontsize=\"small\")"
      ],
      "metadata": {
        "colab": {
          "base_uri": "https://localhost:8080/",
          "height": 312
        },
        "id": "E7rgp3akIfvt",
        "outputId": "d0202f90-f545-4d8a-8f8b-89a761ab123b"
      },
      "execution_count": null,
      "outputs": [
        {
          "output_type": "execute_result",
          "data": {
            "text/plain": [
              "<matplotlib.legend.Legend at 0x7fdb68785810>"
            ]
          },
          "metadata": {},
          "execution_count": 31
        },
        {
          "output_type": "display_data",
          "data": {
            "text/plain": [
              "<Figure size 432x288 with 1 Axes>"
            ],
            "image/png": "[encoded data removed]"
          },
          "metadata": {
            "needs_background": "light"
          }
        }
      ]
    },
    {
      "cell_type": "code",
      "source": [
        "plt.ylabel(\"Company\")\n",
        "plt.xlabel(\"Revenue($)\")\n",
        "plt.title(\"US Tech Stocks\")\n",
        "plt.barh(company,revenue,label=\"Revenue\")\n",
        "plt.barh(company,profit,label=\"Profit\")\n",
        "plt.legend(shadow=True,fontsize=\"small\")"
      ],
      "metadata": {
        "colab": {
          "base_uri": "https://localhost:8080/",
          "height": 312
        },
        "id": "SsO_P-rUJso_",
        "outputId": "a38fcc9d-8d8d-4b30-d38b-94528bf65558"
      },
      "execution_count": null,
      "outputs": [
        {
          "output_type": "execute_result",
          "data": {
            "text/plain": [
              "<matplotlib.legend.Legend at 0x7fdb6888d350>"
            ]
          },
          "metadata": {},
          "execution_count": 27
        },
        {
          "output_type": "display_data",
          "data": {
            "text/plain": [
              "<Figure size 432x288 with 1 Axes>"
            ],
            "image/png": "[encoded data removed]"
          },
          "metadata": {
            "needs_background": "light"
          }
        }
      ]
    },
    {
      "cell_type": "code",
      "source": [
        ""
      ],
      "metadata": {
        "id": "FBh9PLezKkFq"
      },
      "execution_count": null,
      "outputs": []
    }
  ]
}