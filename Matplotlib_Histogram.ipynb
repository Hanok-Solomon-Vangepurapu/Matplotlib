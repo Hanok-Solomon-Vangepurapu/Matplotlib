{
  "nbformat": 4,
  "nbformat_minor": 0,
  "metadata": {
    "colab": {
      "name": "Matplotlib-Histogram.ipynb",
      "provenance": [],
      "authorship_tag": "ABX9TyOPICHZbimY7uyjexKksCHF",
      "include_colab_link": true
    },
    "kernelspec": {
      "name": "python3",
      "display_name": "Python 3"
    },
    "language_info": {
      "name": "python"
    }
  },
  "cells": [
    {
      "cell_type": "markdown",
      "metadata": {
        "id": "view-in-github",
        "colab_type": "text"
      },
      "source": [
        "<a href=\"https://colab.research.google.com/github/honey-python-world/Matplotlib/blob/main/Matplotlib_Histogram.ipynb\" target=\"_parent\"><img src=\"https://colab.research.google.com/assets/colab-badge.svg\" alt=\"Open In Colab\"/></a>"
      ]
    },
    {
      "cell_type": "code",
      "execution_count": null,
      "metadata": {
        "id": "S1M9U4-gRh4s"
      },
      "outputs": [],
      "source": [
        "import matplotlib.pyplot as plt\n",
        "%matplotlib inline  \n",
        "# reference https://matplotlib.org/3.1.1/api/_as_gen/matplotlib.pyplot.pie.html"
      ]
    },
    {
      "cell_type": "code",
      "source": [
        "blood_sugar =[113,85,90,150,149,88,93,115,135,80,77,82,129]\n",
        "plt.hist(blood_sugar,bins=3,rwidth=0.95)\n",
        "#bins=10 is default value"
      ],
      "metadata": {
        "colab": {
          "base_uri": "https://localhost:8080/",
          "height": 317
        },
        "id": "M5ivS_uXR5A7",
        "outputId": "1a8ed5a7-74f6-4dc7-acc8-babd71889a0b"
      },
      "execution_count": null,
      "outputs": [
        {
          "output_type": "execute_result",
          "data": {
            "text/plain": [
              "(array([7., 2., 4.]),\n",
              " array([ 77.        , 101.33333333, 125.66666667, 150.        ]),\n",
              " <a list of 3 Patch objects>)"
            ]
          },
          "metadata": {},
          "execution_count": 7
        },
        {
          "output_type": "display_data",
          "data": {
            "text/plain": [
              "<Figure size 432x288 with 1 Axes>"
            ],
            "image/png": "[encoded data removed]"
          },
          "metadata": {
            "needs_background": "light"
          }
        }
      ]
    },
    {
      "cell_type": "code",
      "source": [
        "blood_sugar =[113,85,90,150,149,88,93,115,135,80,77,82,129]\n",
        "plt.hist(blood_sugar,bins=[80,100,125,150],rwidth=0.95)\n",
        "#bins=10 is default value"
      ],
      "metadata": {
        "colab": {
          "base_uri": "https://localhost:8080/",
          "height": 282
        },
        "id": "VDDvH7EGSKOc",
        "outputId": "33f584c2-cfcd-4f43-f541-c5d99cdcc774"
      },
      "execution_count": null,
      "outputs": [
        {
          "output_type": "execute_result",
          "data": {
            "text/plain": [
              "(array([6., 2., 4.]), array([ 80, 100, 125, 150]), <a list of 3 Patch objects>)"
            ]
          },
          "metadata": {},
          "execution_count": 9
        },
        {
          "output_type": "display_data",
          "data": {
            "text/plain": [
              "<Figure size 432x288 with 1 Axes>"
            ],
            "image/png": "[encoded data removed]"
          },
          "metadata": {
            "needs_background": "light"
          }
        }
      ]
    },
    {
      "cell_type": "code",
      "source": [
        "blood_sugar =[113,85,90,150,149,88,93,115,135,80,77,82,129]\n",
        "plt.hist(blood_sugar,bins=[80,100,125,150],rwidth=0.95,color=\"r\")\n",
        "#bins=10 is default value"
      ],
      "metadata": {
        "colab": {
          "base_uri": "https://localhost:8080/",
          "height": 282
        },
        "id": "8VlshSJFS_jg",
        "outputId": "a7d82388-b3a5-4afb-bde0-4326a54a5b26"
      },
      "execution_count": null,
      "outputs": [
        {
          "output_type": "execute_result",
          "data": {
            "text/plain": [
              "(array([6., 2., 4.]), array([ 80, 100, 125, 150]), <a list of 3 Patch objects>)"
            ]
          },
          "metadata": {},
          "execution_count": 10
        },
        {
          "output_type": "display_data",
          "data": {
            "text/plain": [
              "<Figure size 432x288 with 1 Axes>"
            ],
            "image/png": "[encoded data removed]"
          },
          "metadata": {
            "needs_background": "light"
          }
        }
      ]
    },
    {
      "cell_type": "code",
      "source": [
        "blood_sugar =[113,85,90,150,149,88,93,115,135,80,77,82,129]\n",
        "plt.hist(blood_sugar,bins=[80,100,125,150],rwidth=0.95,color=\"b\",histtype=\"step\")\n",
        "#bins=10 is default value"
      ],
      "metadata": {
        "colab": {
          "base_uri": "https://localhost:8080/",
          "height": 282
        },
        "id": "6_3_xkU2TM1X",
        "outputId": "e4834379-b9c3-41b0-9d64-e9bac60da91e"
      },
      "execution_count": null,
      "outputs": [
        {
          "output_type": "execute_result",
          "data": {
            "text/plain": [
              "(array([6., 2., 4.]), array([ 80, 100, 125, 150]), <a list of 1 Patch objects>)"
            ]
          },
          "metadata": {},
          "execution_count": 11
        },
        {
          "output_type": "display_data",
          "data": {
            "text/plain": [
              "<Figure size 432x288 with 1 Axes>"
            ],
            "image/png": "[encoded data removed]"
          },
          "metadata": {
            "needs_background": "light"
          }
        }
      ]
    },
    {
      "cell_type": "markdown",
      "source": [
        "two datas in single histogram"
      ],
      "metadata": {
        "id": "9SFDN3dWTnCK"
      }
    },
    {
      "cell_type": "code",
      "source": [
        "\n",
        "blood_sugar_men = [113, 85, 90, 150, 149, 88, 93, 115, 135, 80, 77, 82, 129]\n",
        "blood_sugar_women = [67, 98, 89, 120, 133, 150, 84, 69, 89, 79, 120, 112, 100]\n",
        "plt.xlabel(\"Sugar Range\")\n",
        "plt.ylabel(\"Total no.of Patients\")\n",
        "plt.title(\"Blood Sugar Analysis\")\n",
        "plt.hist([blood_sugar_men,blood_sugar_women],bins=[80,100,125,150],rwidth=0.95,color=[\"b\",\"r\"],alpha=0.7,label=[\"Men\",\"Women\"])\n",
        "plt.legend(shadow=True,fontsize=\"large\")"
      ],
      "metadata": {
        "colab": {
          "base_uri": "https://localhost:8080/",
          "height": 312
        },
        "id": "i_-8iHYfWyf9",
        "outputId": "e62a51eb-8754-4ad4-ca16-1c49f5619856"
      },
      "execution_count": null,
      "outputs": [
        {
          "output_type": "execute_result",
          "data": {
            "text/plain": [
              "<matplotlib.legend.Legend at 0x7fbd939d8910>"
            ]
          },
          "metadata": {},
          "execution_count": 22
        },
        {
          "output_type": "display_data",
          "data": {
            "text/plain": [
              "<Figure size 432x288 with 1 Axes>"
            ],
            "image/png": "[encoded data removed]"
          },
          "metadata": {
            "needs_background": "light"
          }
        }
      ]
    },
    {
      "cell_type": "code",
      "source": [
        "\n",
        "blood_sugar_men = [113, 85, 90, 150, 149, 88, 93, 115, 135, 80, 77, 82, 129]\n",
        "blood_sugar_women = [67, 98, 89, 120, 133, 150, 84, 69, 89, 79, 120, 112, 100]\n",
        "plt.xlabel(\"Sugar Range\")\n",
        "plt.ylabel(\"Total no.of Patients\")\n",
        "plt.title(\"Blood Sugar Analysis\")\n",
        "plt.hist([blood_sugar_men,blood_sugar_women],bins=[80,100,125,150],rwidth=0.95,color=[\"b\",\"r\"],alpha=0.7,label=[\"Men\",\"Women\"],orientation=\"horizontal\")\n",
        "plt.legend(shadow=True,fontsize=\"large\")"
      ],
      "metadata": {
        "colab": {
          "base_uri": "https://localhost:8080/",
          "height": 312
        },
        "id": "21QaCLvjTXMX",
        "outputId": "bd1783a3-093f-4efc-b101-1848546edf51"
      },
      "execution_count": null,
      "outputs": [
        {
          "output_type": "execute_result",
          "data": {
            "text/plain": [
              "<matplotlib.legend.Legend at 0x7fbd93a536d0>"
            ]
          },
          "metadata": {},
          "execution_count": 21
        },
        {
          "output_type": "display_data",
          "data": {
            "text/plain": [
              "<Figure size 432x288 with 1 Axes>"
            ],
            "image/png": "[encoded data removed]"
          },
          "metadata": {
            "needs_background": "light"
          }
        }
      ]
    },
    {
      "cell_type": "code",
      "source": [
        ""
      ],
      "metadata": {
        "id": "1rb1S80rUTAU"
      },
      "execution_count": null,
      "outputs": []
    }
  ]
}